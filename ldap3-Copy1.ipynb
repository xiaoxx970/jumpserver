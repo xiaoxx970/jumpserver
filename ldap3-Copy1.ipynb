{
 "cells": [
  {
   "cell_type": "code",
   "execution_count": 6,
   "metadata": {},
   "outputs": [],
   "source": [
    "from ldap3 import Server, Connection, Tls\n",
    "import ssl\n",
    "from logger import logger"
   ]
  },
  {
   "cell_type": "code",
   "execution_count": 76,
   "metadata": {},
   "outputs": [],
   "source": [
    "class LDAPConfig(object):\n",
    "    def __init__(self, config=None):\n",
    "        self.server_uri = None\n",
    "        self.bind_dn = None\n",
    "        self.password = None\n",
    "        self.use_ssl = None\n",
    "        self.search_ougroup = None\n",
    "        self.search_filter = None\n",
    "        self.attr_map = None\n",
    "        self.load_from_settings()\n",
    "    def load_from_test(self):\n",
    "        self.server_uri = \"labldap02.cloudapp.net\"\n",
    "        self.bind_dn = 'cn=testLAB,o=resources'\n",
    "        self.password = 'Rc1234pfop'\n",
    "        self.use_ssl = False\n",
    "        self.search_ougroup = \"ou=fixtures,o=test\"\n",
    "        self.search_filter = \"(cn=%(user)s)\"\n",
    "        self.attr_map = {\"username\": \"cn\", \"name\": \"sn\", \"email\": \"mail\"}\n",
    "        \n",
    "    def load_from_settings(self):\n",
    "        self.server_uri = \"ldap.google.com\"\n",
    "        self.bind_dn = \"GrayVicero\"\n",
    "        self.password = \"SgSQZgbgLeY6XeY6u33XeTZ9\"\n",
    "        self.use_ssl = False\n",
    "        self.search_ougroup = \"ou=Employees,ou=Users,dc=mixwan,dc=net|ou=Managers,ou=Users,dc=mixwan,dc=net\"\n",
    "        self.search_filter = \"(cn=%(user)s)\"\n",
    "        self.attr_map = {\"username\": \"uid\", \"name\": \"sn\", \"email\": \"mail\"}\n",
    "\n",
    "        \n",
    "class LDAPServerUtil(object):\n",
    "    def __init__(self, config=None):\n",
    "        self._conn = None\n",
    "        self.search_users = None\n",
    "        self.search_value = None\n",
    "        self._paged_size = 1000\n",
    "        self.config = LDAPConfig()\n",
    "        \n",
    "    @property\n",
    "    def connection(self):\n",
    "        if self._conn:\n",
    "            return self._conn\n",
    "        tls = Tls(local_private_key_file = 'data/certs/Google_2022_11_18_40607.key',\n",
    "                  local_certificate_file = 'data/certs/Google_2022_11_18_40607.crt',\n",
    "                 version = ssl.PROTOCOL_TLSv1)\n",
    "        server = Server(self.config.server_uri, use_ssl=self.config.use_ssl, tls=tls)\n",
    "        conn = Connection(server, self.config.bind_dn, self.config.password,\n",
    "                        sasl_mechanism = 'EXTERNAL', sasl_credentials = 'username')\n",
    "        conn.bind()\n",
    "        self._conn = conn\n",
    "        return self._conn\n",
    "    \n",
    "    \n",
    "    def paged_cookie(self):\n",
    "        if self._paged_size is None:\n",
    "            return None\n",
    "        cookie = self.connection.result['controls']['1.2.840.113556.1.4.319']['value']['cookie']\n",
    "        return cookie\n",
    "    \n",
    "    def get_search_filter_extra(self):\n",
    "        extra = ''\n",
    "        if self.search_users:\n",
    "            mapping_username = self.config.attr_map.get('username')\n",
    "            for user in self.search_users:\n",
    "                extra += '({}={})'.format(mapping_username, user)\n",
    "            return '(|{})'.format(extra)\n",
    "        if self.search_value:\n",
    "            for attr in self.config.attr_map.values():\n",
    "                extra += '({}={})'.format(attr, self.search_value)\n",
    "            return '(|{})'.format(extra)\n",
    "        return extra\n",
    "    \n",
    "    def get_search_filter(self):\n",
    "        search_filter = self.config.search_filter % {'user': '*'}\n",
    "        search_filter_extra = self.get_search_filter_extra()\n",
    "        if search_filter_extra:\n",
    "            search_filter = '(&{}{})'.format(search_filter, search_filter_extra)\n",
    "        return search_filter\n",
    "\n",
    "    def search_user_entries_ou(self, search_ou, paged_cookie=None):\n",
    "        search_filter = self.get_search_filter()\n",
    "        attributes = list(self.config.attr_map.values())\n",
    "        ok = self.connection.search(\n",
    "            search_base=search_ou, search_filter=search_filter,\n",
    "            attributes=attributes, paged_size=self._paged_size,\n",
    "#             paged_cookie=paged_cookie\n",
    "        )\n",
    "        if not ok:\n",
    "            error = \"Search no entry matched in ou {}\".format(search_ou)\n",
    "            logger.error(error)\n",
    "\n",
    "    def search_user_entries(self):\n",
    "        logger.info(\"Search user entries\")\n",
    "        user_entries = list()\n",
    "        search_ous = str(self.config.search_ougroup).split('|')\n",
    "        for search_ou in search_ous:\n",
    "            logger.info(\"Search user entries ou: {}\".format(search_ou))\n",
    "            self.search_user_entries_ou(search_ou)\n",
    "            user_entries.extend(self.connection.entries)\n",
    "#             while self.paged_cookie():\n",
    "#                 self.search_user_entries_ou(search_ou, self.paged_cookie())\n",
    "#                 user_entries.extend(self.connection.entries)\n",
    "        return user_entries\n",
    "\n",
    "    def user_entry_to_dict(self, entry):\n",
    "        user = {}\n",
    "        attr_map = self.config.attr_map.items()\n",
    "        for attr, mapping in attr_map:\n",
    "            if not hasattr(entry, mapping):\n",
    "                continue\n",
    "            value = getattr(entry, mapping).value or ''\n",
    "            if attr == 'is_active' and mapping.lower() == 'useraccountcontrol' \\\n",
    "                    and value:\n",
    "                value = int(value) & LDAP_AD_ACCOUNT_DISABLE != LDAP_AD_ACCOUNT_DISABLE\n",
    "            user[attr] = value\n",
    "#         user['username'] = user['username'][0]\n",
    "#         print(\"user: \",user)\n",
    "        return user\n",
    "\n",
    "    def user_entries_to_dict(self, user_entries):\n",
    "        users = []\n",
    "        for user_entry in user_entries:\n",
    "            user = self.user_entry_to_dict(user_entry)\n",
    "            users.append(user)\n",
    "        return users\n",
    "\n",
    "    def search(self, search_users=None, search_value=None):\n",
    "        logger.info(\"Search ldap users\")\n",
    "        self.search_users = search_users\n",
    "        self.search_value = search_value\n",
    "        user_entries = self.search_user_entries()\n",
    "        users = self.user_entries_to_dict(user_entries)\n",
    "        return users\n"
   ]
  },
  {
   "cell_type": "code",
   "execution_count": 77,
   "metadata": {},
   "outputs": [
    {
     "data": {
      "text/plain": [
       "{'result': 13,\n",
       " 'description': 'confidentialityRequired',\n",
       " 'dn': '',\n",
       " 'message': '',\n",
       " 'referrals': None,\n",
       " 'saslCreds': None,\n",
       " 'type': 'bindResponse'}"
      ]
     },
     "execution_count": 77,
     "metadata": {},
     "output_type": "execute_result"
    }
   ],
   "source": [
    "userserver = LDAPServerUtil()\n",
    "#userserver.paged_cookie()\n",
    "userserver.connection.result"
   ]
  },
  {
   "cell_type": "code",
   "execution_count": 75,
   "metadata": {},
   "outputs": [
    {
     "name": "stdout",
     "output_type": "stream",
     "text": [
      "[21/Nov/2019 19:44:44] INFO - Search ldap users\n",
      "[21/Nov/2019 19:44:44] INFO - Search user entries\n",
      "[21/Nov/2019 19:44:44] INFO - Search user entries ou: ou=Employees,ou=Users,dc=mixwan,dc=net\n",
      "[21/Nov/2019 19:44:44] INFO - Search user entries ou: ou=Managers,ou=Users,dc=mixwan,dc=net\n"
     ]
    },
    {
     "data": {
      "text/plain": [
       "[{'username': 'li.bowen', 'name': 'Li', 'email': 'li.bowen@mixwan.net'},\n",
       " {'username': 'lu.junpeng', 'name': 'Lu', 'email': 'lu.junpeng@mixwan.net'},\n",
       " {'username': 'h', 'name': 'Wong', 'email': 'h@mixwan.net'},\n",
       " {'username': 'luye', 'name': 'Lu', 'email': 'luye@mixwan.net'},\n",
       " {'username': 'w', 'name': 'W', 'email': 'w@mixwan.net'}]"
      ]
     },
     "execution_count": 75,
     "metadata": {},
     "output_type": "execute_result"
    }
   ],
   "source": [
    "userserver.search()"
   ]
  },
  {
   "cell_type": "code",
   "execution_count": 62,
   "metadata": {},
   "outputs": [
    {
     "data": {
      "text/plain": [
       "{}"
      ]
     },
     "execution_count": 62,
     "metadata": {},
     "output_type": "execute_result"
    }
   ],
   "source": [
    "userserver.user_entry_to_dict(userserver.connection.entries)"
   ]
  },
  {
   "cell_type": "code",
   "execution_count": 63,
   "metadata": {},
   "outputs": [
    {
     "data": {
      "text/plain": [
       "[DN: uid=w,ou=Managers,ou=Users,dc=mixwan,dc=net - STATUS: Read - READ TIME: 2019-11-21T19:37:18.574489\n",
       "     cn: w\n",
       "         QF W\n",
       "     mail: w@mixwan.net\n",
       "     sn: W,\n",
       " DN: uid=luye,ou=Managers,ou=Users,dc=mixwan,dc=net - STATUS: Read - READ TIME: 2019-11-21T19:37:18.574623\n",
       "     cn: luye\n",
       "         Ye Lu\n",
       "     mail: luye@mixwan.net\n",
       "     sn: Lu,\n",
       " DN: uid=h,ou=Managers,ou=Users,dc=mixwan,dc=net - STATUS: Read - READ TIME: 2019-11-21T19:37:18.574746\n",
       "     cn: h\n",
       "         H. W. Wong\n",
       "     mail: h@mixwan.net\n",
       "     sn: Wong]"
      ]
     },
     "execution_count": 63,
     "metadata": {},
     "output_type": "execute_result"
    }
   ],
   "source": [
    "userserver.connection.entries"
   ]
  },
  {
   "cell_type": "code",
   "execution_count": 38,
   "metadata": {},
   "outputs": [
    {
     "data": {
      "text/plain": [
       "'(cn=*)'"
      ]
     },
     "execution_count": 38,
     "metadata": {},
     "output_type": "execute_result"
    }
   ],
   "source": [
    "'(cn=%(user)s)' % {'user': '*'}"
   ]
  },
  {
   "cell_type": "code",
   "execution_count": null,
   "metadata": {},
   "outputs": [],
   "source": []
  }
 ],
 "metadata": {
  "kernelspec": {
   "display_name": "Python 3",
   "language": "python",
   "name": "python3"
  },
  "language_info": {
   "codemirror_mode": {
    "name": "ipython",
    "version": 3
   },
   "file_extension": ".py",
   "mimetype": "text/x-python",
   "name": "python",
   "nbconvert_exporter": "python",
   "pygments_lexer": "ipython3",
   "version": "3.6.8"
  }
 },
 "nbformat": 4,
 "nbformat_minor": 2
}
