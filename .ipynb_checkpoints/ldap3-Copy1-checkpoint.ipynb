{
 "cells": [
  {
   "cell_type": "code",
   "execution_count": 1,
   "metadata": {},
   "outputs": [],
   "source": [
    "from ldap3 import Server, Connection, Tls\n",
    "import ssl"
   ]
  },
  {
   "cell_type": "code",
   "execution_count": 2,
   "metadata": {},
   "outputs": [],
   "source": [
    "class LDAPConfig(object):\n",
    "    def __init__(self, config=None):\n",
    "        self.server_uri = None\n",
    "        self.bind_dn = None\n",
    "        self.password = None\n",
    "        self.use_ssl = None\n",
    "        self.search_ougroup = None\n",
    "        self.search_filter = None\n",
    "        self.attr_map = None\n",
    "        self.load_from_settings()\n",
    "    def load_from_settings(self):\n",
    "        self.server_uri = \"ldap.google.com\"\n",
    "        self.bind_dn = 'GrayVicero'\n",
    "        self.password = 'SgSQZgbgLeY6XeY6u33XeTZ9'\n",
    "        self.use_ssl = True\n",
    "        self.search_ougroup = \"ou=Employees,ou=Users,dc=mixwan,dc=net\"\n",
    "        self.search_filter = \"(cn=*)\"\n",
    "        self.attr_map = {\"username\": \"cn\", \"name\": \"sn\", \"email\": \"mail\"}\n",
    "\n",
    "        \n",
    "class LDAPServerUtil(object):\n",
    "    def __init__(self, config=None):\n",
    "        self._conn = None\n",
    "        self.search_users = None\n",
    "        self.search_value = None\n",
    "        self._paged_size = 0\n",
    "        self.config = LDAPConfig()\n",
    "        \n",
    "    @property\n",
    "    def connection(self):\n",
    "        if self._conn:\n",
    "            return self._conn\n",
    "        tls = Tls(local_private_key_file = 'data/certs/Google_2022_11_18_40607.key', \\\n",
    "                  local_certificate_file = 'data/certs/Google_2022_11_18_40607.crt', \\\n",
    "                 validate = ssl.CERT_NONE, version = ssl.PROTOCOL_TLSv1)\n",
    "        server = Server(self.config.server_uri, 389, use_ssl=self.config.use_ssl, tls=tls)\n",
    "        conn = Connection(server, self.config.bind_dn, self.config.password)\n",
    "        conn.bind()\n",
    "        self._conn = conn\n",
    "        return self._conn\n",
    "    \n",
    "    \n",
    "    def paged_cookie(self):\n",
    "        if self._paged_size is None:\n",
    "            return None\n",
    "        cookie = self.connection.result['controls']['1.2.840.113556.1.4.319']['value']['cookie']\n",
    "        return cookie"
   ]
  },
  {
   "cell_type": "code",
   "execution_count": null,
   "metadata": {},
   "outputs": [],
   "source": [
    "userserver = LDAPServerUtil()\n",
    "#userserver.paged_cookie()\n",
    "userserver.connection.result"
   ]
  },
  {
   "cell_type": "code",
   "execution_count": null,
   "metadata": {},
   "outputs": [],
   "source": [
    "#tls = Tls(local_private_key_file = '/opt/jumpserver/data/certs/Google_2022_11_18_40607.key', \\\n",
    "#      local_certificate_file = '/opt/jumpserver/data/certs/Google_2022_11_18_40607.crt', \\\n",
    "#      )"
   ]
  }
 ],
 "metadata": {
  "kernelspec": {
   "display_name": "Python 3",
   "language": "python",
   "name": "python3"
  },
  "language_info": {
   "codemirror_mode": {
    "name": "ipython",
    "version": 3
   },
   "file_extension": ".py",
   "mimetype": "text/x-python",
   "name": "python",
   "nbconvert_exporter": "python",
   "pygments_lexer": "ipython3",
   "version": "3.6.8"
  }
 },
 "nbformat": 4,
 "nbformat_minor": 2
}
